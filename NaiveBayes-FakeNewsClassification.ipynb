{
 "cells": [
  {
   "cell_type": "code",
   "execution_count": 1,
   "metadata": {},
   "outputs": [
    {
     "data": {
      "text/html": [
       "<style>.container { width:90% !important; }</style>"
      ],
      "text/plain": [
       "<IPython.core.display.HTML object>"
      ]
     },
     "metadata": {},
     "output_type": "display_data"
    }
   ],
   "source": [
    "import pandas as pd\n",
    "from IPython.core.display import display, HTML\n",
    "from sklearn.naive_bayes import MultinomialNB\n",
    "display(HTML(\"<style>.container { width:90% !important; }</style>\"))\n",
    "pd.set_option('max_colwidth',200)"
   ]
  },
  {
   "cell_type": "code",
   "execution_count": 2,
   "metadata": {
    "collapsed": true
   },
   "outputs": [],
   "source": [
    "df = pd.read_csv('dataset.csv', usecols=['title','text','label'])"
   ]
  },
  {
   "cell_type": "code",
   "execution_count": 3,
   "metadata": {},
   "outputs": [
    {
     "data": {
      "text/plain": [
       "Index(['title', 'text', 'label'], dtype='object')"
      ]
     },
     "execution_count": 3,
     "metadata": {},
     "output_type": "execute_result"
    }
   ],
   "source": [
    "df.columns"
   ]
  },
  {
   "cell_type": "code",
   "execution_count": 4,
   "metadata": {
    "scrolled": false
   },
   "outputs": [
    {
     "data": {
      "text/html": [
       "<div>\n",
       "<style>\n",
       "    .dataframe thead tr:only-child th {\n",
       "        text-align: right;\n",
       "    }\n",
       "\n",
       "    .dataframe thead th {\n",
       "        text-align: left;\n",
       "    }\n",
       "\n",
       "    .dataframe tbody tr th {\n",
       "        vertical-align: top;\n",
       "    }\n",
       "</style>\n",
       "<table border=\"1\" class=\"dataframe\">\n",
       "  <thead>\n",
       "    <tr style=\"text-align: right;\">\n",
       "      <th></th>\n",
       "      <th>title</th>\n",
       "      <th>text</th>\n",
       "      <th>label</th>\n",
       "    </tr>\n",
       "  </thead>\n",
       "  <tbody>\n",
       "    <tr>\n",
       "      <th>0</th>\n",
       "      <td>You Can Smell Hillary’s Fear</td>\n",
       "      <td>Daniel Greenfield, a Shillman Journalism Fellow at the Freedom Center, is a New York writer focusing on radical Islam. \\nIn the final stretch of the election, Hillary Rodham Clinton has gone to wa...</td>\n",
       "      <td>FAKE</td>\n",
       "    </tr>\n",
       "    <tr>\n",
       "      <th>1</th>\n",
       "      <td>Watch The Exact Moment Paul Ryan Committed Political Suicide At A Trump Rally (VIDEO)</td>\n",
       "      <td>Google Pinterest Digg Linkedin Reddit Stumbleupon Print Delicious Pocket Tumblr \\nThere are two fundamental truths in this world: Paul Ryan desperately wants to be president. And Paul Ryan will ne...</td>\n",
       "      <td>FAKE</td>\n",
       "    </tr>\n",
       "    <tr>\n",
       "      <th>2</th>\n",
       "      <td>Kerry to go to Paris in gesture of sympathy</td>\n",
       "      <td>U.S. Secretary of State John F. Kerry said Monday that he will stop in Paris later this week, amid criticism that no top American officials attended Sunday’s unity march against terrorism.\\n\\nKerr...</td>\n",
       "      <td>REAL</td>\n",
       "    </tr>\n",
       "    <tr>\n",
       "      <th>3</th>\n",
       "      <td>Bernie supporters on Twitter erupt in anger against the DNC: 'We tried to warn you!'</td>\n",
       "      <td>— Kaydee King (@KaydeeKing) November 9, 2016 The lesson from tonight's Dem losses: Time for Democrats to start listening to the voters. Stop running the same establishment candidates. \\n— People F...</td>\n",
       "      <td>FAKE</td>\n",
       "    </tr>\n",
       "    <tr>\n",
       "      <th>4</th>\n",
       "      <td>The Battle of New York: Why This Primary Matters</td>\n",
       "      <td>It's primary day in New York and front-runners Hillary Clinton and Donald Trump are leading in the polls.\\n\\nTrump is now vowing to win enough delegates to clinch the Republican nomination and pre...</td>\n",
       "      <td>REAL</td>\n",
       "    </tr>\n",
       "    <tr>\n",
       "      <th>5</th>\n",
       "      <td>Tehran, USA</td>\n",
       "      <td>\\nI’m not an immigrant, but my grandparents are. More than 50 years ago, they arrived in New York City from Iran. I grew up mainly in central New Jersey, an American kid playing little league fo...</td>\n",
       "      <td>FAKE</td>\n",
       "    </tr>\n",
       "    <tr>\n",
       "      <th>6</th>\n",
       "      <td>Girl Horrified At What She Watches Boyfriend Do After He Left FaceTime On</td>\n",
       "      <td>Share This Baylee Luciani (left), Screenshot of what Baylee caught on FaceTime (right) \\nThe closest Baylee Luciani could get to her boyfriend, who’s attending college in Austin, was through video...</td>\n",
       "      <td>FAKE</td>\n",
       "    </tr>\n",
       "    <tr>\n",
       "      <th>7</th>\n",
       "      <td>‘Britain’s Schindler’ Dies at 106</td>\n",
       "      <td>A Czech stockbroker who saved more than 650 Jewish children from Nazi Germany has died at the age of 106. Dubbed “Britain’s Schindler,” Nicholas Winton arranged to transport Jewish youngsters from...</td>\n",
       "      <td>REAL</td>\n",
       "    </tr>\n",
       "    <tr>\n",
       "      <th>8</th>\n",
       "      <td>Fact check: Trump and Clinton at the 'commander-in-chief' forum</td>\n",
       "      <td>Hillary Clinton and Donald Trump made some inaccurate claims during an NBC “commander-in-chief” forum on military and veterans issues:\\n\\n• Clinton wrongly claimed Trump supported the war in Iraq ...</td>\n",
       "      <td>REAL</td>\n",
       "    </tr>\n",
       "    <tr>\n",
       "      <th>9</th>\n",
       "      <td>Iran reportedly makes new push for uranium concessions in nuclear talks</td>\n",
       "      <td>Iranian negotiators reportedly have made a last-ditch push for more concessions from the U.S. and five other world powers as talks on the fate of Iran's nuclear program come down to the final days...</td>\n",
       "      <td>REAL</td>\n",
       "    </tr>\n",
       "    <tr>\n",
       "      <th>10</th>\n",
       "      <td>With all three Clintons in Iowa, a glimpse at the fire that has eluded Hillary Clinton’s campaign</td>\n",
       "      <td>CEDAR RAPIDS, Iowa — “I had one of the most wonderful rallies of my entire career right here in 1992,” Bill Clinton said by way of opening to the crowd of more than 1,100 on Saturday night.\\n\\nTwo...</td>\n",
       "      <td>REAL</td>\n",
       "    </tr>\n",
       "    <tr>\n",
       "      <th>11</th>\n",
       "      <td>Donald Trump’s Shockingly Weak Delegate Game Somehow Got Even Worse</td>\n",
       "      <td>Donald Trump’s organizational problems have gone from bad to worse to flat-out embarrassing. Here’s Politico with the play-by-play from this weekend’s Colorado GOP convention, the latest scene of ...</td>\n",
       "      <td>REAL</td>\n",
       "    </tr>\n",
       "    <tr>\n",
       "      <th>12</th>\n",
       "      <td>Strong Solar Storm, Tech Risks Today | S0 News Oct.26.2016 [VIDEO]</td>\n",
       "      <td>Click Here To Learn More About Alexandra's Personalized Essences Psychic Protection Click Here for More Information on Psychic Protection! Implant Removal Series Click here to listen to the IRP an...</td>\n",
       "      <td>FAKE</td>\n",
       "    </tr>\n",
       "    <tr>\n",
       "      <th>13</th>\n",
       "      <td>10 Ways America Is Preparing for World War 3</td>\n",
       "      <td>October 31, 2016 at 4:52 am \\nPretty factual except for women in the selective service. American military is still voluntary only and hasn't been a draft since Vietnam war. The comment was made by...</td>\n",
       "      <td>FAKE</td>\n",
       "    </tr>\n",
       "    <tr>\n",
       "      <th>14</th>\n",
       "      <td>Trump takes on Cruz, but lightly</td>\n",
       "      <td>Killing Obama administration rules, dismantling Obamacare and pushing through tax reform are on the early to-do list.</td>\n",
       "      <td>REAL</td>\n",
       "    </tr>\n",
       "    <tr>\n",
       "      <th>15</th>\n",
       "      <td>How women lead differently</td>\n",
       "      <td>As more women move into high offices, they often bring a style and approach that is distinct from men. But do they make better leaders?\\n\\nDemocratic women of the US Senate stand on stage during t...</td>\n",
       "      <td>REAL</td>\n",
       "    </tr>\n",
       "    <tr>\n",
       "      <th>16</th>\n",
       "      <td>Shocking! Michele Obama &amp; Hillary Caught Glamorizing Date Rape Promoters</td>\n",
       "      <td>Shocking! Michele Obama &amp; Hillary Caught Glamorizing Date Rape Promoters First lady claims moral high ground while befriending rape-glorifying rappers Infowars.com - October 27, 2016 Comments \\nAl...</td>\n",
       "      <td>FAKE</td>\n",
       "    </tr>\n",
       "    <tr>\n",
       "      <th>17</th>\n",
       "      <td>Hillary Clinton in HUGE Trouble After America Noticed SICK Thing Hidden in this Picture... * LIBERTY WRITERS NEWS</td>\n",
       "      <td>0 \\nHillary Clinton has barely just lost the presidential election and here she is already getting herself caught in another one of her tangled web of lies. \\nThe day after losing, a picture was p...</td>\n",
       "      <td>FAKE</td>\n",
       "    </tr>\n",
       "    <tr>\n",
       "      <th>18</th>\n",
       "      <td>What's in that Iran bill that Obama doesn't like?</td>\n",
       "      <td>Washington (CNN) For months, the White House and Congress have wrangled over a bill that would give lawmakers a greater say in the Iran nuclear deal the administration is hammering out along with ...</td>\n",
       "      <td>REAL</td>\n",
       "    </tr>\n",
       "    <tr>\n",
       "      <th>19</th>\n",
       "      <td>The 1 chart that explains everything you need to know about partisanship in America</td>\n",
       "      <td>While paging through Pew's best data visualizations of 2014 (it's awesome), I came across what I believe to be one of the best and most revealing charts about the state of American politics. Here ...</td>\n",
       "      <td>REAL</td>\n",
       "    </tr>\n",
       "    <tr>\n",
       "      <th>20</th>\n",
       "      <td>The slippery slope to Trump’s proposed ban on Muslims</td>\n",
       "      <td>With little fanfare this fall, the New York developer who had planned to build an Islamic community center north of the World Trade Center announced that he would instead use the site for a 70-sto...</td>\n",
       "      <td>REAL</td>\n",
       "    </tr>\n",
       "    <tr>\n",
       "      <th>21</th>\n",
       "      <td>Episode #160 – SUNDAY WIRE: ‘Hail to the Deplorables’ with special guest Randy J</td>\n",
       "      <td>November 13, 2016 By 21wire Leave a Comment \\nEpisode #160 of SUNDAY WIRE SHOW resumes this November 13, 2016 as host Patrick Henningsen brings a 3 HOURS special broadcast of LIVE power-packed tal...</td>\n",
       "      <td>FAKE</td>\n",
       "    </tr>\n",
       "    <tr>\n",
       "      <th>22</th>\n",
       "      <td>Hillary Clinton Makes A Bipartisan Appeal on Staten Island</td>\n",
       "      <td>Hillary Clinton told a Staten Island crowd today that she was the candidate who could reach across party lines to get things done as president—pointing to her experience representing the borough i...</td>\n",
       "      <td>REAL</td>\n",
       "    </tr>\n",
       "    <tr>\n",
       "      <th>23</th>\n",
       "      <td>New Senate majority leader’s main goal for GOP: Don’t be scary</td>\n",
       "      <td>Mitch McConnell has an unusual admonition for the new Republican majority as it takes over the Senate this week: Don’t be “scary.”\\n\\nThe incoming Senate majority leader has set a political goal f...</td>\n",
       "      <td>REAL</td>\n",
       "    </tr>\n",
       "    <tr>\n",
       "      <th>24</th>\n",
       "      <td>‘Inferno’ and the Overpopulation Myth</td>\n",
       "      <td>Mises.org November 1, 2016 Inferno is a great thriller, featuring Tom Hanks reprising his role as Professor Robert Langdon. The previous movie adaptations of Dan Brown’s books ( Angels and Demons ...</td>\n",
       "      <td>FAKE</td>\n",
       "    </tr>\n",
       "    <tr>\n",
       "      <th>25</th>\n",
       "      <td>Anti-Trump forces seek last-ditch delegate revolt</td>\n",
       "      <td>Washington (CNN) The faction of the GOP that is unhappy with Donald Trump as the party's presumptive nominee has one last plan to stop the mogul: staging an all-out delegate revolt at the Republic...</td>\n",
       "      <td>REAL</td>\n",
       "    </tr>\n",
       "    <tr>\n",
       "      <th>26</th>\n",
       "      <td>Sanders Trounces Clinton in W. Va. -- But Will It Make a Difference?</td>\n",
       "      <td>Meanwhile, Democrat Bernie Sanders picked up more delegates in the two states than Hillary Clinton.\\n\\nThe Vermont senator's still way behind, but says he's not giving up, calling his win in West ...</td>\n",
       "      <td>REAL</td>\n",
       "    </tr>\n",
       "    <tr>\n",
       "      <th>27</th>\n",
       "      <td>Donald Trump Is Changing His Campaign Slogan to Prove He’s Not Racist</td>\n",
       "      <td>After a week of nonstop criticism from Democrats and Republicans alike for comments many condemned as racially charged, Donald Trump claims to be altering his campaign to be a little more inclusiv...</td>\n",
       "      <td>REAL</td>\n",
       "    </tr>\n",
       "    <tr>\n",
       "      <th>28</th>\n",
       "      <td>Pure chaos: Donald Trump’s campaign management offers a glimpse into his governing style (spoiler alert: it’s terrible)</td>\n",
       "      <td>If you want a glimpse into a presidential candidate’s governing style, take a look at his campaign. How does he build an organization? How does he manage personnel? How does he delegate responsibi...</td>\n",
       "      <td>REAL</td>\n",
       "    </tr>\n",
       "    <tr>\n",
       "      <th>29</th>\n",
       "      <td>Syrian War Report – November 1, 2016: Syrian Military Deploys Advanced T-90 Battle Tanks to Aleppo</td>\n",
       "      <td>Syrian War Report – October 31, 2016: Al-Nusra-led Forces Failed to Break Aleppo Siege ‹ › South Front Analysis &amp; Intelligence is a public analytical project maintained by an independent team of e...</td>\n",
       "      <td>FAKE</td>\n",
       "    </tr>\n",
       "    <tr>\n",
       "      <th>...</th>\n",
       "      <td>...</td>\n",
       "      <td>...</td>\n",
       "      <td>...</td>\n",
       "    </tr>\n",
       "    <tr>\n",
       "      <th>6305</th>\n",
       "      <td>Colin Kaepernick hosts ‘Know Your Rights’ camp for Oakland-area youth</td>\n",
       "      <td>Print \\n[Ed. – Now teaching the gospel of racial grievance.] \\nSan Francisco 49ers quarterback Colin Kaepernick hosted a “Know Your Rights” camp for Oakland-area youth Saturday, an event designed ...</td>\n",
       "      <td>FAKE</td>\n",
       "    </tr>\n",
       "    <tr>\n",
       "      <th>6306</th>\n",
       "      <td>Wikileaks Emails Disclose Aliens Linked to Vatican!</td>\n",
       "      <td>Sound too “strange” to be true? We have proof! Contained in the Pedestal email files that were leaked by Julian Assange’s Wikileaks were hidden a set of emails sent to John Podesta from Edgar Mitc...</td>\n",
       "      <td>FAKE</td>\n",
       "    </tr>\n",
       "    <tr>\n",
       "      <th>6307</th>\n",
       "      <td>US abstains from UN vote calling for end to Cuban embargo</td>\n",
       "      <td>US abstains from UN vote calling for end to Cuban embargo Published time: 26 Oct, 2016 21:10 Get short URL U.S. President Barack Obama and Cuban President Raul Castro gesture after a news conferen...</td>\n",
       "      <td>FAKE</td>\n",
       "    </tr>\n",
       "    <tr>\n",
       "      <th>6308</th>\n",
       "      <td>West Ham fans laud aerodynamic properties of new pound coin</td>\n",
       "      <td>Tuesday 1 November 2016 by Formelia Alberthine West Ham fans laud aerodynamic properties of new pound coin \\nWest Ham fans have thanked the Royal Mint for its efforts in improving the match-day ex...</td>\n",
       "      <td>FAKE</td>\n",
       "    </tr>\n",
       "    <tr>\n",
       "      <th>6309</th>\n",
       "      <td>How the Obama White House runs foreign policy</td>\n",
       "      <td>When Susan E. Rice took over as President Obama’s national security adviser two years ago, she was struck by how the White House had grown. Since she had last served on the National Security Counc...</td>\n",
       "      <td>REAL</td>\n",
       "    </tr>\n",
       "    <tr>\n",
       "      <th>6310</th>\n",
       "      <td>ISIS claims responsibility for Garland, Texas, shooting</td>\n",
       "      <td>(CNN) ISIS has claimed responsibility for the attack outside a Prophet Mohammed cartoon contest in Texas -- and warned of more attacks to come.\\n\\nIn a broadcast on its official radio channel Tues...</td>\n",
       "      <td>REAL</td>\n",
       "    </tr>\n",
       "    <tr>\n",
       "      <th>6311</th>\n",
       "      <td>The “blame the left” crew: What the right’s new Hebdo attack is really about</td>\n",
       "      <td>It was inevitable that liberals would end up being condemned for the horrific attacks on the French satirical magazine Charlie Hedbo in which 12 people were killed by what appear to have been Musl...</td>\n",
       "      <td>REAL</td>\n",
       "    </tr>\n",
       "    <tr>\n",
       "      <th>6312</th>\n",
       "      <td>ADHD NATION: How Big Pharma Created the ADHD Epidemic</td>\n",
       "      <td>By Kalee Brown\\nWhile I was at university, many of my peers would take Adderall, a drug commonly used to treat Attention Deficit Hyperactivity Disorder (A.D.H.D.), to help them study or maintain f...</td>\n",
       "      <td>FAKE</td>\n",
       "    </tr>\n",
       "    <tr>\n",
       "      <th>6313</th>\n",
       "      <td>Donald Trump claims the election will be 'rigged' — and critics have called that preposterous and dangerous</td>\n",
       "      <td>Email \\nDonald Trump is again riling up his voting base with claims that the November election will be rigged against him. \\n\"Of course there is large scale voter fraud happening on and before ele...</td>\n",
       "      <td>FAKE</td>\n",
       "    </tr>\n",
       "    <tr>\n",
       "      <th>6314</th>\n",
       "      <td>REPORT: Dirty Reporter Blackmails Montel… Help Us Hit Trump or We’ll Print Your Address</td>\n",
       "      <td>BREAKING: Trump Jumps in FL, Takes 4 Point Lead in OH \\nWilliams, who has publicly stated that he was not a Trump supporter, is nevertheless a man of honor and integrity. He doesn’t sell his value...</td>\n",
       "      <td>FAKE</td>\n",
       "    </tr>\n",
       "    <tr>\n",
       "      <th>6315</th>\n",
       "      <td>Police Arrest Suspect In Charleston Church Shooting</td>\n",
       "      <td>Police in Charleston, S.C., say a man they suspect opened fire and killed nine people during a Wednesday prayer meeting at one of the city's oldest historically black churches has been captured.\\n...</td>\n",
       "      <td>REAL</td>\n",
       "    </tr>\n",
       "    <tr>\n",
       "      <th>6316</th>\n",
       "      <td>Donald Trump’s collapse was caused by one big factor: Hillary Clinton</td>\n",
       "      <td>Silver of FiveThirtyEight.com has laid out four possible outcomes to the race at this point, with all but one featuring a Clinton win:\\n\\nA Trump win, including cases where he loses the popular vo...</td>\n",
       "      <td>REAL</td>\n",
       "    </tr>\n",
       "    <tr>\n",
       "      <th>6317</th>\n",
       "      <td>FINA suspends Russian swimmer for 8 years over doping — web portal - Russia News Now</td>\n",
       "      <td>This post was originally published on this site Vitaly Melnikov \\n© Stanislav Krasilnikov/TASS \\nMOSCOW. November 11. /TASS/. The International Swimming Federation (FINA) has banned Russian swimme...</td>\n",
       "      <td>FAKE</td>\n",
       "    </tr>\n",
       "    <tr>\n",
       "      <th>6318</th>\n",
       "      <td>BREAKING : Hillary Campaign Manager Deletes his Entire Twitter Timeline – TruthFeed</td>\n",
       "      <td>BREAKING : Hillary Campaign Manager Deletes his Entire Twitter Timeline BREAKING : Hillary Campaign Manager Deletes his Entire Twitter Timeline Breaking News By Amy Moreno October 28, 2016 \\nThe H...</td>\n",
       "      <td>FAKE</td>\n",
       "    </tr>\n",
       "    <tr>\n",
       "      <th>6319</th>\n",
       "      <td>Why Ted Cruz Has the Most to Lose in New Hampshire</td>\n",
       "      <td>Ted Cruz took first prize in the Iowa caucuses, but in the days before the New Hampshire primary, not many people are treating the Texas senator like a winner.\\n\\nInstead, the talk has turned to a...</td>\n",
       "      <td>REAL</td>\n",
       "    </tr>\n",
       "    <tr>\n",
       "      <th>6320</th>\n",
       "      <td>“Nothing Good Can Come of This Election”–and That’s Good</td>\n",
       "      <td>Posted on November 4, 2016 by Charles Hugh Smith \\nThe overwhelming consensus of the punditry across the political spectrum is that “Nothing Good Can Come of This Election”–and that’s a very good ...</td>\n",
       "      <td>FAKE</td>\n",
       "    </tr>\n",
       "    <tr>\n",
       "      <th>6321</th>\n",
       "      <td>List of Republicans opposing Trump | OffGuardian</td>\n",
       "      <td>Charlie Baker , Massachusetts (2015–present)[31] R obert J. Bentley , Alabama (2011–present) (withdrew endorsement)[32] Dennis Daugaard , South Dakota (2011–present) (withdrew endorsement, called ...</td>\n",
       "      <td>FAKE</td>\n",
       "    </tr>\n",
       "    <tr>\n",
       "      <th>6322</th>\n",
       "      <td>Putin: Use of 'mythical' Russian military threat a ‘profitable business'</td>\n",
       "      <td>vladimir putin , Valdai , sochi , RBTH Daily Russian President Vladimir Putin. Source: Kremlin.ru \\nRussian President Vladimir Putin has said that the use of what he described as a \"mythical\" Russ...</td>\n",
       "      <td>FAKE</td>\n",
       "    </tr>\n",
       "    <tr>\n",
       "      <th>6323</th>\n",
       "      <td>Bernie Sanders says private meeting with Pope Francis is not an endorsement</td>\n",
       "      <td>ROME —  U.S. Democratic presidential candidate Bernie Sanders met privately with Pope Francis on Saturday, the capstone to an unusual detour from the American election.\\n\\nSanders said the meeting...</td>\n",
       "      <td>REAL</td>\n",
       "    </tr>\n",
       "    <tr>\n",
       "      <th>6324</th>\n",
       "      <td>Alabama Lawmaker: Same-Sex Couples Don’t Deserve Same Financial Benefits As Other Families</td>\n",
       "      <td>Most conservatives who oppose marriage equality will cite the Bible, “nature,” or polygamy and incest to justify their opposition.\\n\\nBut for one Alabama state senator, a reason to oppose marriage...</td>\n",
       "      <td>REAL</td>\n",
       "    </tr>\n",
       "    <tr>\n",
       "      <th>6325</th>\n",
       "      <td>Will the Media Reset After the Election or Are We Stuck With This Tabloid Stuff?</td>\n",
       "      <td>Written by Peter Van Buren   venerable New York Times ran a story saying Donald Trump lies about the height of his buildings.For no apparent reason, the Times resurrected some information from 197...</td>\n",
       "      <td>FAKE</td>\n",
       "    </tr>\n",
       "    <tr>\n",
       "      <th>6326</th>\n",
       "      <td>DOJ COMPLAINT: Comey Under Fire Over Partisan Witch Hunt For Hillary (TWEETS/VIDEO)</td>\n",
       "      <td>DOJ COMPLAINT: Comey Under Fire Over Partisan Witch Hunt For Hillary (TWEETS/VIDEO) By Natalie Dailey on October 30, 2016 Subscribe \\nFor pretty much this entire election, Democratic presidential ...</td>\n",
       "      <td>FAKE</td>\n",
       "    </tr>\n",
       "    <tr>\n",
       "      <th>6327</th>\n",
       "      <td>GOP Senator David Perdue Jokes About Praying for Obama’s Death</td>\n",
       "      <td>The freshman senator from Georgia quoted scripture at a right-wing Christian confab to say the president's days should be short.\\n\\nSen. David Perdue, a freshman senator from Georgia, opened his r...</td>\n",
       "      <td>REAL</td>\n",
       "    </tr>\n",
       "    <tr>\n",
       "      <th>6328</th>\n",
       "      <td>Radio Derb Is On The Air–Leonardo And Brazil’s Miss Bum Bum Pageant, Etc.</td>\n",
       "      <td></td>\n",
       "      <td>FAKE</td>\n",
       "    </tr>\n",
       "    <tr>\n",
       "      <th>6329</th>\n",
       "      <td>Assange claims ‘crazed’ Clinton campaign tried to hack WikiLeaks</td>\n",
       "      <td>Julian Assange has claimed the Hillary Clinton campaign has attacked the servers being used by WikiLeaks. Despite the Ecuadorian embassy shutting down his internet until the US election is over, t...</td>\n",
       "      <td>FAKE</td>\n",
       "    </tr>\n",
       "    <tr>\n",
       "      <th>6330</th>\n",
       "      <td>State Department says it can't find emails from Clinton IT specialist</td>\n",
       "      <td>The State Department told the Republican National Committee that it could not find any emails to or from Hillary Clinton's former IT specialist, who managed her private email server during her ten...</td>\n",
       "      <td>REAL</td>\n",
       "    </tr>\n",
       "    <tr>\n",
       "      <th>6331</th>\n",
       "      <td>The ‘P’ in PBS Should Stand for ‘Plutocratic’ or ‘Pentagon’</td>\n",
       "      <td>The ‘P’ in PBS Should Stand for ‘Plutocratic’ or ‘Pentagon’ Posted on Oct 27, 2016 ( WikiMedia ) \\nIn a television commercial that the Public Broadcasting System (PBS) ran for years, “PBS NewsHour...</td>\n",
       "      <td>FAKE</td>\n",
       "    </tr>\n",
       "    <tr>\n",
       "      <th>6332</th>\n",
       "      <td>Anti-Trump Protesters Are Tools of the Oligarchy     : Information</td>\n",
       "      <td>Anti-Trump Protesters Are Tools of the Oligarchy Reform always provokes rage on the part of those who profit by the old order. Arthur M. Schlesinger, Jr., The Crisis of the Old Order\\nBy Paul C...</td>\n",
       "      <td>FAKE</td>\n",
       "    </tr>\n",
       "    <tr>\n",
       "      <th>6333</th>\n",
       "      <td>In Ethiopia, Obama seeks progress on peace, security in East Africa</td>\n",
       "      <td>ADDIS ABABA, Ethiopia —President Obama convened a meeting with the leaders of several East African nations and the African Union on Monday in an effort to address the worsening situation in South ...</td>\n",
       "      <td>REAL</td>\n",
       "    </tr>\n",
       "    <tr>\n",
       "      <th>6334</th>\n",
       "      <td>Jeb Bush Is Suddenly Attacking Trump. Here's Why That Matters</td>\n",
       "      <td>Jeb Bush Is Suddenly Attacking Trump. Here's Why That Matters\\n\\nJeb Bush isn't pulling punches anymore when it comes to Donald Trump.\\n\\nThe former Florida governor has delicately danced around t...</td>\n",
       "      <td>REAL</td>\n",
       "    </tr>\n",
       "  </tbody>\n",
       "</table>\n",
       "<p>6335 rows × 3 columns</p>\n",
       "</div>"
      ],
      "text/plain": [
       "                                                                                                                        title  \\\n",
       "0                                                                                                You Can Smell Hillary’s Fear   \n",
       "1                                       Watch The Exact Moment Paul Ryan Committed Political Suicide At A Trump Rally (VIDEO)   \n",
       "2                                                                                 Kerry to go to Paris in gesture of sympathy   \n",
       "3                                        Bernie supporters on Twitter erupt in anger against the DNC: 'We tried to warn you!'   \n",
       "4                                                                            The Battle of New York: Why This Primary Matters   \n",
       "5                                                                                                                 Tehran, USA   \n",
       "6                                                   Girl Horrified At What She Watches Boyfriend Do After He Left FaceTime On   \n",
       "7                                                                                           ‘Britain’s Schindler’ Dies at 106   \n",
       "8                                                             Fact check: Trump and Clinton at the 'commander-in-chief' forum   \n",
       "9                                                     Iran reportedly makes new push for uranium concessions in nuclear talks   \n",
       "10                          With all three Clintons in Iowa, a glimpse at the fire that has eluded Hillary Clinton’s campaign   \n",
       "11                                                        Donald Trump’s Shockingly Weak Delegate Game Somehow Got Even Worse   \n",
       "12                                                         Strong Solar Storm, Tech Risks Today | S0 News Oct.26.2016 [VIDEO]   \n",
       "13                                                                               10 Ways America Is Preparing for World War 3   \n",
       "14                                                                                           Trump takes on Cruz, but lightly   \n",
       "15                                                                                                 How women lead differently   \n",
       "16                                                   Shocking! Michele Obama & Hillary Caught Glamorizing Date Rape Promoters   \n",
       "17          Hillary Clinton in HUGE Trouble After America Noticed SICK Thing Hidden in this Picture... * LIBERTY WRITERS NEWS   \n",
       "18                                                                          What's in that Iran bill that Obama doesn't like?   \n",
       "19                                        The 1 chart that explains everything you need to know about partisanship in America   \n",
       "20                                                                      The slippery slope to Trump’s proposed ban on Muslims   \n",
       "21                                           Episode #160 – SUNDAY WIRE: ‘Hail to the Deplorables’ with special guest Randy J   \n",
       "22                                                                 Hillary Clinton Makes A Bipartisan Appeal on Staten Island   \n",
       "23                                                             New Senate majority leader’s main goal for GOP: Don’t be scary   \n",
       "24                                                                                      ‘Inferno’ and the Overpopulation Myth   \n",
       "25                                                                          Anti-Trump forces seek last-ditch delegate revolt   \n",
       "26                                                       Sanders Trounces Clinton in W. Va. -- But Will It Make a Difference?   \n",
       "27                                                      Donald Trump Is Changing His Campaign Slogan to Prove He’s Not Racist   \n",
       "28    Pure chaos: Donald Trump’s campaign management offers a glimpse into his governing style (spoiler alert: it’s terrible)   \n",
       "29                         Syrian War Report – November 1, 2016: Syrian Military Deploys Advanced T-90 Battle Tanks to Aleppo   \n",
       "...                                                                                                                       ...   \n",
       "6305                                                    Colin Kaepernick hosts ‘Know Your Rights’ camp for Oakland-area youth   \n",
       "6306                                                                      Wikileaks Emails Disclose Aliens Linked to Vatican!   \n",
       "6307                                                                US abstains from UN vote calling for end to Cuban embargo   \n",
       "6308                                                              West Ham fans laud aerodynamic properties of new pound coin   \n",
       "6309                                                                            How the Obama White House runs foreign policy   \n",
       "6310                                                                  ISIS claims responsibility for Garland, Texas, shooting   \n",
       "6311                                             The “blame the left” crew: What the right’s new Hebdo attack is really about   \n",
       "6312                                                                    ADHD NATION: How Big Pharma Created the ADHD Epidemic   \n",
       "6313              Donald Trump claims the election will be 'rigged' — and critics have called that preposterous and dangerous   \n",
       "6314                                  REPORT: Dirty Reporter Blackmails Montel… Help Us Hit Trump or We’ll Print Your Address   \n",
       "6315                                                                      Police Arrest Suspect In Charleston Church Shooting   \n",
       "6316                                                    Donald Trump’s collapse was caused by one big factor: Hillary Clinton   \n",
       "6317                                     FINA suspends Russian swimmer for 8 years over doping — web portal - Russia News Now   \n",
       "6318                                      BREAKING : Hillary Campaign Manager Deletes his Entire Twitter Timeline – TruthFeed   \n",
       "6319                                                                       Why Ted Cruz Has the Most to Lose in New Hampshire   \n",
       "6320                                                                 “Nothing Good Can Come of This Election”–and That’s Good   \n",
       "6321                                                                         List of Republicans opposing Trump | OffGuardian   \n",
       "6322                                                 Putin: Use of 'mythical' Russian military threat a ‘profitable business'   \n",
       "6323                                              Bernie Sanders says private meeting with Pope Francis is not an endorsement   \n",
       "6324                               Alabama Lawmaker: Same-Sex Couples Don’t Deserve Same Financial Benefits As Other Families   \n",
       "6325                                         Will the Media Reset After the Election or Are We Stuck With This Tabloid Stuff?   \n",
       "6326                                      DOJ COMPLAINT: Comey Under Fire Over Partisan Witch Hunt For Hillary (TWEETS/VIDEO)   \n",
       "6327                                                           GOP Senator David Perdue Jokes About Praying for Obama’s Death   \n",
       "6328                                                Radio Derb Is On The Air–Leonardo And Brazil’s Miss Bum Bum Pageant, Etc.   \n",
       "6329                                                         Assange claims ‘crazed’ Clinton campaign tried to hack WikiLeaks   \n",
       "6330                                                    State Department says it can't find emails from Clinton IT specialist   \n",
       "6331                                                              The ‘P’ in PBS Should Stand for ‘Plutocratic’ or ‘Pentagon’   \n",
       "6332                                                       Anti-Trump Protesters Are Tools of the Oligarchy     : Information   \n",
       "6333                                                      In Ethiopia, Obama seeks progress on peace, security in East Africa   \n",
       "6334                                                            Jeb Bush Is Suddenly Attacking Trump. Here's Why That Matters   \n",
       "\n",
       "                                                                                                                                                                                                         text  \\\n",
       "0     Daniel Greenfield, a Shillman Journalism Fellow at the Freedom Center, is a New York writer focusing on radical Islam. \\nIn the final stretch of the election, Hillary Rodham Clinton has gone to wa...   \n",
       "1     Google Pinterest Digg Linkedin Reddit Stumbleupon Print Delicious Pocket Tumblr \\nThere are two fundamental truths in this world: Paul Ryan desperately wants to be president. And Paul Ryan will ne...   \n",
       "2     U.S. Secretary of State John F. Kerry said Monday that he will stop in Paris later this week, amid criticism that no top American officials attended Sunday’s unity march against terrorism.\\n\\nKerr...   \n",
       "3     — Kaydee King (@KaydeeKing) November 9, 2016 The lesson from tonight's Dem losses: Time for Democrats to start listening to the voters. Stop running the same establishment candidates. \\n— People F...   \n",
       "4     It's primary day in New York and front-runners Hillary Clinton and Donald Trump are leading in the polls.\\n\\nTrump is now vowing to win enough delegates to clinch the Republican nomination and pre...   \n",
       "5       \\nI’m not an immigrant, but my grandparents are. More than 50 years ago, they arrived in New York City from Iran. I grew up mainly in central New Jersey, an American kid playing little league fo...   \n",
       "6     Share This Baylee Luciani (left), Screenshot of what Baylee caught on FaceTime (right) \\nThe closest Baylee Luciani could get to her boyfriend, who’s attending college in Austin, was through video...   \n",
       "7     A Czech stockbroker who saved more than 650 Jewish children from Nazi Germany has died at the age of 106. Dubbed “Britain’s Schindler,” Nicholas Winton arranged to transport Jewish youngsters from...   \n",
       "8     Hillary Clinton and Donald Trump made some inaccurate claims during an NBC “commander-in-chief” forum on military and veterans issues:\\n\\n• Clinton wrongly claimed Trump supported the war in Iraq ...   \n",
       "9     Iranian negotiators reportedly have made a last-ditch push for more concessions from the U.S. and five other world powers as talks on the fate of Iran's nuclear program come down to the final days...   \n",
       "10    CEDAR RAPIDS, Iowa — “I had one of the most wonderful rallies of my entire career right here in 1992,” Bill Clinton said by way of opening to the crowd of more than 1,100 on Saturday night.\\n\\nTwo...   \n",
       "11    Donald Trump’s organizational problems have gone from bad to worse to flat-out embarrassing. Here’s Politico with the play-by-play from this weekend’s Colorado GOP convention, the latest scene of ...   \n",
       "12    Click Here To Learn More About Alexandra's Personalized Essences Psychic Protection Click Here for More Information on Psychic Protection! Implant Removal Series Click here to listen to the IRP an...   \n",
       "13    October 31, 2016 at 4:52 am \\nPretty factual except for women in the selective service. American military is still voluntary only and hasn't been a draft since Vietnam war. The comment was made by...   \n",
       "14                                                                                      Killing Obama administration rules, dismantling Obamacare and pushing through tax reform are on the early to-do list.   \n",
       "15    As more women move into high offices, they often bring a style and approach that is distinct from men. But do they make better leaders?\\n\\nDemocratic women of the US Senate stand on stage during t...   \n",
       "16    Shocking! Michele Obama & Hillary Caught Glamorizing Date Rape Promoters First lady claims moral high ground while befriending rape-glorifying rappers Infowars.com - October 27, 2016 Comments \\nAl...   \n",
       "17    0 \\nHillary Clinton has barely just lost the presidential election and here she is already getting herself caught in another one of her tangled web of lies. \\nThe day after losing, a picture was p...   \n",
       "18    Washington (CNN) For months, the White House and Congress have wrangled over a bill that would give lawmakers a greater say in the Iran nuclear deal the administration is hammering out along with ...   \n",
       "19    While paging through Pew's best data visualizations of 2014 (it's awesome), I came across what I believe to be one of the best and most revealing charts about the state of American politics. Here ...   \n",
       "20    With little fanfare this fall, the New York developer who had planned to build an Islamic community center north of the World Trade Center announced that he would instead use the site for a 70-sto...   \n",
       "21    November 13, 2016 By 21wire Leave a Comment \\nEpisode #160 of SUNDAY WIRE SHOW resumes this November 13, 2016 as host Patrick Henningsen brings a 3 HOURS special broadcast of LIVE power-packed tal...   \n",
       "22    Hillary Clinton told a Staten Island crowd today that she was the candidate who could reach across party lines to get things done as president—pointing to her experience representing the borough i...   \n",
       "23    Mitch McConnell has an unusual admonition for the new Republican majority as it takes over the Senate this week: Don’t be “scary.”\\n\\nThe incoming Senate majority leader has set a political goal f...   \n",
       "24    Mises.org November 1, 2016 Inferno is a great thriller, featuring Tom Hanks reprising his role as Professor Robert Langdon. The previous movie adaptations of Dan Brown’s books ( Angels and Demons ...   \n",
       "25    Washington (CNN) The faction of the GOP that is unhappy with Donald Trump as the party's presumptive nominee has one last plan to stop the mogul: staging an all-out delegate revolt at the Republic...   \n",
       "26    Meanwhile, Democrat Bernie Sanders picked up more delegates in the two states than Hillary Clinton.\\n\\nThe Vermont senator's still way behind, but says he's not giving up, calling his win in West ...   \n",
       "27    After a week of nonstop criticism from Democrats and Republicans alike for comments many condemned as racially charged, Donald Trump claims to be altering his campaign to be a little more inclusiv...   \n",
       "28    If you want a glimpse into a presidential candidate’s governing style, take a look at his campaign. How does he build an organization? How does he manage personnel? How does he delegate responsibi...   \n",
       "29    Syrian War Report – October 31, 2016: Al-Nusra-led Forces Failed to Break Aleppo Siege ‹ › South Front Analysis & Intelligence is a public analytical project maintained by an independent team of e...   \n",
       "...                                                                                                                                                                                                       ...   \n",
       "6305  Print \\n[Ed. – Now teaching the gospel of racial grievance.] \\nSan Francisco 49ers quarterback Colin Kaepernick hosted a “Know Your Rights” camp for Oakland-area youth Saturday, an event designed ...   \n",
       "6306  Sound too “strange” to be true? We have proof! Contained in the Pedestal email files that were leaked by Julian Assange’s Wikileaks were hidden a set of emails sent to John Podesta from Edgar Mitc...   \n",
       "6307  US abstains from UN vote calling for end to Cuban embargo Published time: 26 Oct, 2016 21:10 Get short URL U.S. President Barack Obama and Cuban President Raul Castro gesture after a news conferen...   \n",
       "6308  Tuesday 1 November 2016 by Formelia Alberthine West Ham fans laud aerodynamic properties of new pound coin \\nWest Ham fans have thanked the Royal Mint for its efforts in improving the match-day ex...   \n",
       "6309  When Susan E. Rice took over as President Obama’s national security adviser two years ago, she was struck by how the White House had grown. Since she had last served on the National Security Counc...   \n",
       "6310  (CNN) ISIS has claimed responsibility for the attack outside a Prophet Mohammed cartoon contest in Texas -- and warned of more attacks to come.\\n\\nIn a broadcast on its official radio channel Tues...   \n",
       "6311  It was inevitable that liberals would end up being condemned for the horrific attacks on the French satirical magazine Charlie Hedbo in which 12 people were killed by what appear to have been Musl...   \n",
       "6312  By Kalee Brown\\nWhile I was at university, many of my peers would take Adderall, a drug commonly used to treat Attention Deficit Hyperactivity Disorder (A.D.H.D.), to help them study or maintain f...   \n",
       "6313  Email \\nDonald Trump is again riling up his voting base with claims that the November election will be rigged against him. \\n\"Of course there is large scale voter fraud happening on and before ele...   \n",
       "6314  BREAKING: Trump Jumps in FL, Takes 4 Point Lead in OH \\nWilliams, who has publicly stated that he was not a Trump supporter, is nevertheless a man of honor and integrity. He doesn’t sell his value...   \n",
       "6315  Police in Charleston, S.C., say a man they suspect opened fire and killed nine people during a Wednesday prayer meeting at one of the city's oldest historically black churches has been captured.\\n...   \n",
       "6316  Silver of FiveThirtyEight.com has laid out four possible outcomes to the race at this point, with all but one featuring a Clinton win:\\n\\nA Trump win, including cases where he loses the popular vo...   \n",
       "6317  This post was originally published on this site Vitaly Melnikov \\n© Stanislav Krasilnikov/TASS \\nMOSCOW. November 11. /TASS/. The International Swimming Federation (FINA) has banned Russian swimme...   \n",
       "6318  BREAKING : Hillary Campaign Manager Deletes his Entire Twitter Timeline BREAKING : Hillary Campaign Manager Deletes his Entire Twitter Timeline Breaking News By Amy Moreno October 28, 2016 \\nThe H...   \n",
       "6319  Ted Cruz took first prize in the Iowa caucuses, but in the days before the New Hampshire primary, not many people are treating the Texas senator like a winner.\\n\\nInstead, the talk has turned to a...   \n",
       "6320  Posted on November 4, 2016 by Charles Hugh Smith \\nThe overwhelming consensus of the punditry across the political spectrum is that “Nothing Good Can Come of This Election”–and that’s a very good ...   \n",
       "6321  Charlie Baker , Massachusetts (2015–present)[31] R obert J. Bentley , Alabama (2011–present) (withdrew endorsement)[32] Dennis Daugaard , South Dakota (2011–present) (withdrew endorsement, called ...   \n",
       "6322  vladimir putin , Valdai , sochi , RBTH Daily Russian President Vladimir Putin. Source: Kremlin.ru \\nRussian President Vladimir Putin has said that the use of what he described as a \"mythical\" Russ...   \n",
       "6323  ROME —  U.S. Democratic presidential candidate Bernie Sanders met privately with Pope Francis on Saturday, the capstone to an unusual detour from the American election.\\n\\nSanders said the meeting...   \n",
       "6324  Most conservatives who oppose marriage equality will cite the Bible, “nature,” or polygamy and incest to justify their opposition.\\n\\nBut for one Alabama state senator, a reason to oppose marriage...   \n",
       "6325  Written by Peter Van Buren   venerable New York Times ran a story saying Donald Trump lies about the height of his buildings.For no apparent reason, the Times resurrected some information from 197...   \n",
       "6326  DOJ COMPLAINT: Comey Under Fire Over Partisan Witch Hunt For Hillary (TWEETS/VIDEO) By Natalie Dailey on October 30, 2016 Subscribe \\nFor pretty much this entire election, Democratic presidential ...   \n",
       "6327  The freshman senator from Georgia quoted scripture at a right-wing Christian confab to say the president's days should be short.\\n\\nSen. David Perdue, a freshman senator from Georgia, opened his r...   \n",
       "6328                                                                                                                                                                                                            \n",
       "6329  Julian Assange has claimed the Hillary Clinton campaign has attacked the servers being used by WikiLeaks. Despite the Ecuadorian embassy shutting down his internet until the US election is over, t...   \n",
       "6330  The State Department told the Republican National Committee that it could not find any emails to or from Hillary Clinton's former IT specialist, who managed her private email server during her ten...   \n",
       "6331  The ‘P’ in PBS Should Stand for ‘Plutocratic’ or ‘Pentagon’ Posted on Oct 27, 2016 ( WikiMedia ) \\nIn a television commercial that the Public Broadcasting System (PBS) ran for years, “PBS NewsHour...   \n",
       "6332   Anti-Trump Protesters Are Tools of the Oligarchy Reform always provokes rage on the part of those who profit by the old order. Arthur M. Schlesinger, Jr., The Crisis of the Old Order\\nBy Paul C...   \n",
       "6333  ADDIS ABABA, Ethiopia —President Obama convened a meeting with the leaders of several East African nations and the African Union on Monday in an effort to address the worsening situation in South ...   \n",
       "6334  Jeb Bush Is Suddenly Attacking Trump. Here's Why That Matters\\n\\nJeb Bush isn't pulling punches anymore when it comes to Donald Trump.\\n\\nThe former Florida governor has delicately danced around t...   \n",
       "\n",
       "     label  \n",
       "0     FAKE  \n",
       "1     FAKE  \n",
       "2     REAL  \n",
       "3     FAKE  \n",
       "4     REAL  \n",
       "5     FAKE  \n",
       "6     FAKE  \n",
       "7     REAL  \n",
       "8     REAL  \n",
       "9     REAL  \n",
       "10    REAL  \n",
       "11    REAL  \n",
       "12    FAKE  \n",
       "13    FAKE  \n",
       "14    REAL  \n",
       "15    REAL  \n",
       "16    FAKE  \n",
       "17    FAKE  \n",
       "18    REAL  \n",
       "19    REAL  \n",
       "20    REAL  \n",
       "21    FAKE  \n",
       "22    REAL  \n",
       "23    REAL  \n",
       "24    FAKE  \n",
       "25    REAL  \n",
       "26    REAL  \n",
       "27    REAL  \n",
       "28    REAL  \n",
       "29    FAKE  \n",
       "...    ...  \n",
       "6305  FAKE  \n",
       "6306  FAKE  \n",
       "6307  FAKE  \n",
       "6308  FAKE  \n",
       "6309  REAL  \n",
       "6310  REAL  \n",
       "6311  REAL  \n",
       "6312  FAKE  \n",
       "6313  FAKE  \n",
       "6314  FAKE  \n",
       "6315  REAL  \n",
       "6316  REAL  \n",
       "6317  FAKE  \n",
       "6318  FAKE  \n",
       "6319  REAL  \n",
       "6320  FAKE  \n",
       "6321  FAKE  \n",
       "6322  FAKE  \n",
       "6323  REAL  \n",
       "6324  REAL  \n",
       "6325  FAKE  \n",
       "6326  FAKE  \n",
       "6327  REAL  \n",
       "6328  FAKE  \n",
       "6329  FAKE  \n",
       "6330  REAL  \n",
       "6331  FAKE  \n",
       "6332  FAKE  \n",
       "6333  REAL  \n",
       "6334  REAL  \n",
       "\n",
       "[6335 rows x 3 columns]"
      ]
     },
     "execution_count": 4,
     "metadata": {},
     "output_type": "execute_result"
    }
   ],
   "source": [
    "df.dropna()"
   ]
  },
  {
   "cell_type": "code",
   "execution_count": 5,
   "metadata": {},
   "outputs": [
    {
     "data": {
      "text/plain": [
       "title    6335\n",
       "text     6335\n",
       "label    6335\n",
       "dtype: int64"
      ]
     },
     "execution_count": 5,
     "metadata": {},
     "output_type": "execute_result"
    }
   ],
   "source": [
    "df.count()"
   ]
  },
  {
   "cell_type": "code",
   "execution_count": 6,
   "metadata": {},
   "outputs": [
    {
     "name": "stdout",
     "output_type": "stream",
     "text": [
      "title    3164\n",
      "text     3164\n",
      "label    3164\n",
      "dtype: int64\n",
      "title    3171\n",
      "text     3171\n",
      "label    3171\n",
      "dtype: int64\n"
     ]
    }
   ],
   "source": [
    "fake_set = df.loc[df['label'] == 'FAKE']\n",
    "real_set = df.loc[df['label'] == 'REAL']\n",
    "print(fake_set.count())\n",
    "print(real_set.count())"
   ]
  },
  {
   "cell_type": "code",
   "execution_count": 7,
   "metadata": {},
   "outputs": [
    {
     "name": "stdout",
     "output_type": "stream",
     "text": [
      "Size of train and test sets: 5068 1267\n",
      "Number of real and fake news in training and test sets:\n",
      "REAL    2538\n",
      "FAKE    2530\n",
      "Name: label, dtype: int64\n",
      "FAKE    634\n",
      "REAL    633\n",
      "Name: label, dtype: int64\n"
     ]
    },
    {
     "name": "stderr",
     "output_type": "stream",
     "text": [
      "D:\\Anaconda2\\envs\\py35\\lib\\site-packages\\sklearn\\cross_validation.py:41: DeprecationWarning: This module was deprecated in version 0.18 in favor of the model_selection module into which all the refactored classes and functions are moved. Also note that the interface of the new CV iterators are different from that of this module. This module will be removed in 0.20.\n",
      "  \"This module will be removed in 0.20.\", DeprecationWarning)\n"
     ]
    }
   ],
   "source": [
    "import numpy as np\n",
    "from sklearn.cross_validation import train_test_split\n",
    "X_train, X_test, y_train, y_test = train_test_split(df['text'], df['label'], test_size=0.2)\n",
    "print('Size of train and test sets:', len(y_train), len(y_test))\n",
    "print('Number of real and fake news in training and test sets:')\n",
    "print(y_train.value_counts())\n",
    "print(y_test.value_counts())"
   ]
  },
  {
   "cell_type": "code",
   "execution_count": 136,
   "metadata": {
    "collapsed": true
   },
   "outputs": [],
   "source": [
    "from sklearn.feature_extraction.text import TfidfVectorizer,CountVectorizer\n",
    "tfidf_vectorizer = TfidfVectorizer( max_features=2000000, stop_words='english', min_df=0.002, max_df=0.5, \n",
    "                                   use_idf=True, ngram_range=(1,3))"
   ]
  },
  {
   "cell_type": "code",
   "execution_count": 140,
   "metadata": {},
   "outputs": [
    {
     "name": "stdout",
     "output_type": "stream",
     "text": [
      "Wall time: 10.6 s\n"
     ]
    }
   ],
   "source": [
    "tv = tfidf_vectorizer.fit(X_train)\n",
    "%time train_tfidf_matrix = tv.transform(X_train)"
   ]
  },
  {
   "cell_type": "code",
   "execution_count": 141,
   "metadata": {},
   "outputs": [
    {
     "name": "stdout",
     "output_type": "stream",
     "text": [
      "Wall time: 32 ms\n"
     ]
    }
   ],
   "source": [
    "%time model = MultinomialNB().fit(train_tfidf_matrix, y_train)"
   ]
  },
  {
   "cell_type": "code",
   "execution_count": 142,
   "metadata": {
    "collapsed": true
   },
   "outputs": [],
   "source": [
    "test_tfidf_matrix = tv.transform(X_test)"
   ]
  },
  {
   "cell_type": "code",
   "execution_count": 143,
   "metadata": {
    "collapsed": true
   },
   "outputs": [],
   "source": [
    "all_predictions = model.predict(test_tfidf_matrix)"
   ]
  },
  {
   "cell_type": "code",
   "execution_count": 144,
   "metadata": {},
   "outputs": [
    {
     "name": "stdout",
     "output_type": "stream",
     "text": [
      "accuracy 0.90134175217\n"
     ]
    }
   ],
   "source": [
    "import numpy as np\n",
    "from sklearn.metrics import accuracy_score\n",
    "from sklearn.metrics import confusion_matrix\n",
    "print('accuracy {}'.format(accuracy_score(y_test, all_predictions)))"
   ]
  },
  {
   "cell_type": "code",
   "execution_count": 145,
   "metadata": {},
   "outputs": [
    {
     "data": {
      "text/plain": [
       "Text(0.5,0,u'predicted label')"
      ]
     },
     "execution_count": 145,
     "metadata": {},
     "output_type": "execute_result"
    },
    {
     "data": {
      "image/png": "[encoded data removed]",
      "text/plain": [
       "<matplotlib.figure.Figure at 0x72026048>"
      ]
     },
     "metadata": {},
     "output_type": "display_data"
    }
   ],
   "source": [
    "%matplotlib inline\n",
    "import matplotlib.pyplot as plt\n",
    "res = plt.matshow(confusion_matrix(y_test, all_predictions), cmap=plt.cm.Blues, interpolation='nearest')\n",
    "plt.title('confusion matrix')\n",
    "plt.colorbar(res)\n",
    "plt.ylabel('expected label')\n",
    "plt.xlabel('predicted label')"
   ]
  },
  {
   "cell_type": "code",
   "execution_count": 147,
   "metadata": {},
   "outputs": [
    {
     "name": "stdout",
     "output_type": "stream",
     "text": [
      "Wall time: 11 s\n"
     ]
    }
   ],
   "source": [
    "from sklearn.feature_extraction.text import CountVectorizer\n",
    "count_vectorizer = CountVectorizer( max_features=200000, stop_words='english', min_df=0.002, max_df=0.5, ngram_range=(1,3))\n",
    "cv = count_vectorizer.fit(X_train)\n",
    "%time train_count_matrix = cv.transform(X_train)"
   ]
  },
  {
   "cell_type": "code",
   "execution_count": 148,
   "metadata": {},
   "outputs": [
    {
     "name": "stdout",
     "output_type": "stream",
     "text": [
      "Wall time: 41 ms\n"
     ]
    }
   ],
   "source": [
    "%time model2 = MultinomialNB().fit(train_count_matrix, y_train)"
   ]
  },
  {
   "cell_type": "code",
   "execution_count": 149,
   "metadata": {
    "collapsed": true
   },
   "outputs": [],
   "source": [
    "test_count_matrix = cv.transform(X_test)\n",
    "all_predictions2 = model2.predict(test_count_matrix)"
   ]
  },
  {
   "cell_type": "code",
   "execution_count": 150,
   "metadata": {},
   "outputs": [
    {
     "name": "stdout",
     "output_type": "stream",
     "text": [
      "accuracy 0.899763220205\n",
      "confusion matrix\n",
      " [[593  68]\n",
      " [ 59 547]]\n",
      "(row=expected, col=predicted)\n"
     ]
    }
   ],
   "source": [
    "import numpy as np\n",
    "from sklearn.metrics import accuracy_score\n",
    "from sklearn.metrics import confusion_matrix\n",
    "print('accuracy {}'.format(accuracy_score(y_test, all_predictions2)))\n",
    "print('confusion matrix\\n {}'.format(confusion_matrix(y_test, all_predictions2)))\n",
    "print('(row=expected, col=predicted)')"
   ]
  },
  {
   "cell_type": "code",
   "execution_count": 152,
   "metadata": {},
   "outputs": [
    {
     "data": {
      "text/plain": [
       "Text(0.5,0,u'predicted label')"
      ]
     },
     "execution_count": 152,
     "metadata": {},
     "output_type": "execute_result"
    },
    {
     "data": {
      "image/png": "[encoded data removed]",
      "text/plain": [
       "<matplotlib.figure.Figure at 0x7966d668>"
      ]
     },
     "metadata": {},
     "output_type": "display_data"
    }
   ],
   "source": [
    "plt.matshow(confusion_matrix(y_test, all_predictions2), cmap=plt.cm.Greens, interpolation='nearest')\n",
    "plt.title('confusion matrix')\n",
    "plt.colorbar()\n",
    "plt.ylabel('expected label')\n",
    "plt.xlabel('predicted label')"
   ]
  },
  {
   "cell_type": "code",
   "execution_count": null,
   "metadata": {
    "collapsed": true
   },
   "outputs": [],
   "source": []
  }
 ],
 "metadata": {
  "anaconda-cloud": {},
  "kernelspec": {
   "display_name": "Python 3",
   "language": "python",
   "name": "python3"
  },
  "language_info": {
   "codemirror_mode": {
    "name": "ipython",
    "version": 3
   },
   "file_extension": ".py",
   "mimetype": "text/x-python",
   "name": "python",
   "nbconvert_exporter": "python",
   "pygments_lexer": "ipython3",
   "version": "3.5.4"
  }
 },
 "nbformat": 4,
 "nbformat_minor": 1
}
